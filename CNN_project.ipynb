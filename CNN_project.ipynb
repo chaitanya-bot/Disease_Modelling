{
 "cells": [
  {
   "cell_type": "markdown",
   "id": "67fca05d",
   "metadata": {},
   "source": [
    "# Malaria Detection "
   ]
  },
  {
   "cell_type": "markdown",
   "id": "b1195829",
   "metadata": {},
   "source": [
    "The project aims to use cell images acquired using blood smear tests to build a predictive model for Malaria diagnosis. This model can work in conjunction with traditional microscopy methods to expedite the process of obtaining diagnostic results."
   ]
  },
  {
   "cell_type": "markdown",
   "id": "cb052377",
   "metadata": {},
   "source": [
    "## Importing libraries"
   ]
  },
  {
   "cell_type": "code",
   "execution_count": 1,
   "id": "18b96643",
   "metadata": {},
   "outputs": [],
   "source": [
    "import tensorflow as tf\n",
    "from tensorflow.keras.models import Sequential\n",
    "from tensorflow.keras.metrics import Precision, Recall, AUC\n",
    "from tensorflow.keras.layers import Conv2D, MaxPooling2D, Flatten, Dense, Dropout, BatchNormalization, Activation\n",
    "from tensorflow.keras.callbacks import ReduceLROnPlateau\n",
    "from tensorflow.keras.regularizers import  l2\n",
    "from tensorflow.keras.preprocessing.image import ImageDataGenerator\n",
    "from PIL import Image\n",
    "import matplotlib.pyplot as plt"
   ]
  },
  {
   "cell_type": "markdown",
   "id": "e241be0a",
   "metadata": {},
   "source": [
    "## Loading the dataset"
   ]
  },
  {
   "cell_type": "code",
   "execution_count": 2,
   "id": "e94922e5",
   "metadata": {},
   "outputs": [
    {
     "name": "stdout",
     "output_type": "stream",
     "text": [
      "Found 22048 images belonging to 2 classes.\n",
      "Found 5510 images belonging to 2 classes.\n",
      "Found 15832 images belonging to 2 classes.\n"
     ]
    }
   ],
   "source": [
    "# Data augmentation configuration for training data\n",
    "train_datagen = ImageDataGenerator(\n",
    "    rescale=1./255,             # Rescale pixel values to [0, 1]\n",
    "    rotation_range=30,          # Rotate images randomly by up to 30 degrees\n",
    "    width_shift_range=0.2,      # Shift images horizontally by up to 20% of the width\n",
    "    height_shift_range=0.2,     # Shift images vertically by up to 20% of the height\n",
    "    shear_range=0.2,            # Apply shear transformations\n",
    "    zoom_range=0.3,             # Apply zoom transformations\n",
    "    horizontal_flip=True,       # Flip images horizontally\n",
    "    fill_mode='nearest',        # Fill new pixels with the nearest available pixel\n",
    "    brightness_range=(0.5, 1.5),  # Adjust brightness of images\n",
    "    validation_split=0.2        # Specify the validation split here\n",
    ")\n",
    "\n",
    "#Data preprocessing\n",
    "test_datagen = ImageDataGenerator(\n",
    "    rescale=1./255             # Rescale pixel values to [0, 1]\n",
    ")\n",
    "\n",
    "# Define the class indices with labels\n",
    "class_indices = {\n",
    "    'Uninfected': 0,\n",
    "    'Parasitized': 1\n",
    "}\n",
    "\n",
    "# Generating training data generator\n",
    "training_set = train_datagen.flow_from_directory(\n",
    "    'C:/Users/Chait/Downloads/archive/Malaria Cells/training_set',  # Path to the training dataset\n",
    "    target_size=(64, 64),      # Set the target size (width, height) for resizing\n",
    "    batch_size=220,            # Number of images in each batch\n",
    "    class_mode='binary',       # For binary classification\n",
    "    classes=class_indices,     # Use the updated class indices\n",
    "    subset='training'          # Subset of the data (training portion)\n",
    ")\n",
    "\n",
    "# Generating validation data generator\n",
    "validation_set = train_datagen.flow_from_directory(\n",
    "    'C:/Users/Chait/Downloads/archive/Malaria Cells/training_set',  # Path to the training dataset\n",
    "    target_size=(64, 64),      # Set the target size (width, height) for resizing\n",
    "    batch_size=50,             # Number of images in each batch\n",
    "    class_mode='binary',       # For binary classification\n",
    "    classes=class_indices,     # Use the updated class indices\n",
    "    subset='validation'        # Subset of the data (validation portion)\n",
    ")\n",
    "\n",
    "# Generating testing data generator\n",
    "test_set = test_datagen.flow_from_directory(\n",
    "    'C:/Users/Chait/Downloads/archive/Malaria Cells/testing_set',  # Path to the testing dataset\n",
    "    target_size=(64, 64),      # Set the target size (width, height) for resizing\n",
    "    batch_size=150,            # Number of images in each batch\n",
    "    class_mode='binary',       # For binary classification\n",
    "    classes=class_indices,     # Use the updated class indices\n",
    ")\n"
   ]
  },
  {
   "cell_type": "markdown",
   "id": "4670ff55",
   "metadata": {},
   "source": [
    "CNN model we are using to develop the model doesn't take care of rotation, scaling, etc., in the images. So data augmentation has been employed to increase the robustness of the model. The dataset is taken from Kaggle, and to access it, click [here](https://www.kaggle.com/datasets/miracle9to9/files1) ."
   ]
  },
  {
   "cell_type": "markdown",
   "id": "eb42896f",
   "metadata": {},
   "source": [
    "## Building a CNN model"
   ]
  },
  {
   "cell_type": "code",
   "execution_count": 3,
   "id": "af8ccb8a",
   "metadata": {},
   "outputs": [],
   "source": [
    "# Create a Sequential model\n",
    "model = Sequential([\n",
    "    # First Convolutional layer\n",
    "    Conv2D(filters=16, kernel_size=(3, 3), input_shape=(64, 64, 3)),\n",
    "    BatchNormalization(),  # Add BatchNormalization after Conv2D\n",
    "    Activation('relu'),    # Add Activation layer\n",
    "    MaxPooling2D(pool_size=(2, 2)),  # Max pooling\n",
    "    \n",
    "    # Second Convolutional layer\n",
    "    Conv2D(filters=32, kernel_size=(3, 3), kernel_regularizer=l2(0.01)),\n",
    "    BatchNormalization(),  # Add BatchNormalization after Conv2D\n",
    "    Activation('relu'),    # Add Activation layer\n",
    "    MaxPooling2D(pool_size=(2, 2)),  # Max pooling\n",
    "    \n",
    "    # Third Convolutional layer\n",
    "    Conv2D(filters=64, kernel_size=(3, 3), kernel_regularizer=l2(0.01)),\n",
    "    BatchNormalization(),  # Add BatchNormalization after Conv2D\n",
    "    Activation('relu'),    # Add Activation layer\n",
    "    MaxPooling2D(pool_size=(2, 2)),  # Max pooling\n",
    "    \n",
    "    # Fourth Convolutional layer\n",
    "    Conv2D(filters=128, kernel_size=(3, 3), kernel_regularizer=l2(0.01)),\n",
    "    BatchNormalization(),  # Add BatchNormalization after Conv2D\n",
    "    Activation('relu'),    # Add Activation layer\n",
    "    MaxPooling2D(pool_size=(2, 2)),  # Max pooling\n",
    "    \n",
    "    Flatten(),  # Flatten feature maps to 1D\n",
    "    Dense(32, activation = \"relu\"), # Fully connected layer with 32 neurons and ReLU activation\n",
    "    Dense(16, activation = \"relu\"), # Fully connected layer with 16 neurons and ReLU activation\n",
    "    Dense(1, activation='sigmoid')  # Fully connected layer for binary classification\n",
    "])"
   ]
  },
  {
   "cell_type": "markdown",
   "id": "41c24392",
   "metadata": {},
   "source": [
    "This model is designed for detecting malaria. It consists of four convolutional layers, each using Rectified Linear Unit (ReLU) activation functions to introduce nonlinearity. The input data has a shape of (64, 64, 3). The convolutional layers employ ascending numbers of filters: 16, 32, 64, and 128 respectively. To accelerate training and serve as a regularizer, the Batch Normalization technique is utilized. Additionally, L2 regularization is employed to enhance generalization and mitigate overfitting. After the convolutional layers, the data is flattened and passed through a Deep Neural Network (DNN). The initial two layers of the DNN facilitate the learning of intricate data relationships. Finally, the output layer employs a sigmoid activation function to achieve binary classification."
   ]
  },
  {
   "cell_type": "code",
   "execution_count": 4,
   "id": "0b8f47cc",
   "metadata": {},
   "outputs": [
    {
     "name": "stdout",
     "output_type": "stream",
     "text": [
      "Model: \"sequential\"\n",
      "_________________________________________________________________\n",
      " Layer (type)                Output Shape              Param #   \n",
      "=================================================================\n",
      " conv2d (Conv2D)             (None, 62, 62, 16)        448       \n",
      "                                                                 \n",
      " batch_normalization (Batch  (None, 62, 62, 16)        64        \n",
      " Normalization)                                                  \n",
      "                                                                 \n",
      " activation (Activation)     (None, 62, 62, 16)        0         \n",
      "                                                                 \n",
      " max_pooling2d (MaxPooling2  (None, 31, 31, 16)        0         \n",
      " D)                                                              \n",
      "                                                                 \n",
      " conv2d_1 (Conv2D)           (None, 29, 29, 32)        4640      \n",
      "                                                                 \n",
      " batch_normalization_1 (Bat  (None, 29, 29, 32)        128       \n",
      " chNormalization)                                                \n",
      "                                                                 \n",
      " activation_1 (Activation)   (None, 29, 29, 32)        0         \n",
      "                                                                 \n",
      " max_pooling2d_1 (MaxPoolin  (None, 14, 14, 32)        0         \n",
      " g2D)                                                            \n",
      "                                                                 \n",
      " conv2d_2 (Conv2D)           (None, 12, 12, 64)        18496     \n",
      "                                                                 \n",
      " batch_normalization_2 (Bat  (None, 12, 12, 64)        256       \n",
      " chNormalization)                                                \n",
      "                                                                 \n",
      " activation_2 (Activation)   (None, 12, 12, 64)        0         \n",
      "                                                                 \n",
      " max_pooling2d_2 (MaxPoolin  (None, 6, 6, 64)          0         \n",
      " g2D)                                                            \n",
      "                                                                 \n",
      " conv2d_3 (Conv2D)           (None, 4, 4, 128)         73856     \n",
      "                                                                 \n",
      " batch_normalization_3 (Bat  (None, 4, 4, 128)         512       \n",
      " chNormalization)                                                \n",
      "                                                                 \n",
      " activation_3 (Activation)   (None, 4, 4, 128)         0         \n",
      "                                                                 \n",
      " max_pooling2d_3 (MaxPoolin  (None, 2, 2, 128)         0         \n",
      " g2D)                                                            \n",
      "                                                                 \n",
      " flatten (Flatten)           (None, 512)               0         \n",
      "                                                                 \n",
      " dense (Dense)               (None, 32)                16416     \n",
      "                                                                 \n",
      " dense_1 (Dense)             (None, 16)                528       \n",
      "                                                                 \n",
      " dense_2 (Dense)             (None, 1)                 17        \n",
      "                                                                 \n",
      "=================================================================\n",
      "Total params: 115361 (450.63 KB)\n",
      "Trainable params: 114881 (448.75 KB)\n",
      "Non-trainable params: 480 (1.88 KB)\n",
      "_________________________________________________________________\n"
     ]
    }
   ],
   "source": [
    "model.summary()"
   ]
  },
  {
   "cell_type": "markdown",
   "id": "93621d6c",
   "metadata": {},
   "source": [
    "## Model Compiling and Training"
   ]
  },
  {
   "cell_type": "markdown",
   "id": "ceef4c41",
   "metadata": {},
   "source": [
    "The model is compiled using the Adam optimizer, with a binary_crossentropy loss function and the following metrics: accuracy, precision, recall, and AUC. A learning rate reduction callback (ReduceLROnPlateau) is defined to decrease the learning rate when validation loss plateaus. The monitor parameter tracks 'val_loss', reducing the learning rate by a factor of 0.2 after a patience of 2 epochs, and providing verbose updates."
   ]
  },
  {
   "cell_type": "code",
   "execution_count": 5,
   "id": "d6f0f2d2",
   "metadata": {},
   "outputs": [
    {
     "name": "stdout",
     "output_type": "stream",
     "text": [
      "Epoch 1/20\n",
      "101/101 [==============================] - 344s 3s/step - loss: 1.3264 - accuracy: 0.6943 - precision: 0.7044 - recall: 0.6694 - auc: 0.7736 - val_loss: 1.0712 - val_accuracy: 0.5000 - val_precision: 0.0000e+00 - val_recall: 0.0000e+00 - val_auc: 0.6838 - lr: 0.0010\n",
      "Epoch 2/20\n",
      "101/101 [==============================] - 75s 745ms/step - loss: 0.4901 - accuracy: 0.8934 - precision: 0.9434 - recall: 0.8370 - auc: 0.9404 - val_loss: 1.6039 - val_accuracy: 0.5000 - val_precision: 0.0000e+00 - val_recall: 0.0000e+00 - val_auc: 0.4075 - lr: 0.0010\n",
      "Epoch 3/20\n",
      "101/101 [==============================] - ETA: 0s - loss: 0.3529 - accuracy: 0.9106 - precision: 0.9514 - recall: 0.8653 - auc: 0.9522\n",
      "Epoch 3: ReduceLROnPlateau reducing learning rate to 0.00020000000949949026.\n",
      "101/101 [==============================] - 72s 711ms/step - loss: 0.3529 - accuracy: 0.9106 - precision: 0.9514 - recall: 0.8653 - auc: 0.9522 - val_loss: 1.4877 - val_accuracy: 0.5005 - val_precision: 1.0000 - val_recall: 0.0011 - val_auc: 0.8275 - lr: 0.0010\n",
      "Epoch 4/20\n",
      "101/101 [==============================] - 72s 712ms/step - loss: 0.3027 - accuracy: 0.9199 - precision: 0.9585 - recall: 0.8778 - auc: 0.9614 - val_loss: 0.6772 - val_accuracy: 0.6882 - val_precision: 0.9896 - val_recall: 0.3804 - val_auc: 0.9267 - lr: 2.0000e-04\n",
      "Epoch 5/20\n",
      "101/101 [==============================] - 73s 720ms/step - loss: 0.2770 - accuracy: 0.9252 - precision: 0.9585 - recall: 0.8888 - auc: 0.9659 - val_loss: 0.4404 - val_accuracy: 0.8457 - val_precision: 0.9867 - val_recall: 0.7009 - val_auc: 0.9518 - lr: 2.0000e-04\n",
      "Epoch 6/20\n",
      "101/101 [==============================] - 75s 742ms/step - loss: 0.2655 - accuracy: 0.9272 - precision: 0.9594 - recall: 0.8921 - auc: 0.9672 - val_loss: 0.3048 - val_accuracy: 0.9007 - val_precision: 0.9678 - val_recall: 0.8290 - val_auc: 0.9629 - lr: 2.0000e-04\n",
      "Epoch 7/20\n",
      "101/101 [==============================] - 73s 728ms/step - loss: 0.2622 - accuracy: 0.9255 - precision: 0.9580 - recall: 0.8901 - auc: 0.9662 - val_loss: 0.2699 - val_accuracy: 0.9149 - val_precision: 0.9583 - val_recall: 0.8675 - val_auc: 0.9690 - lr: 2.0000e-04\n",
      "Epoch 8/20\n",
      "101/101 [==============================] - 73s 726ms/step - loss: 0.2514 - accuracy: 0.9295 - precision: 0.9597 - recall: 0.8966 - auc: 0.9680 - val_loss: 0.2714 - val_accuracy: 0.9158 - val_precision: 0.9591 - val_recall: 0.8686 - val_auc: 0.9645 - lr: 2.0000e-04\n",
      "Epoch 9/20\n",
      "101/101 [==============================] - 73s 728ms/step - loss: 0.2433 - accuracy: 0.9301 - precision: 0.9618 - recall: 0.8957 - auc: 0.9698 - val_loss: 0.2632 - val_accuracy: 0.9163 - val_precision: 0.9599 - val_recall: 0.8690 - val_auc: 0.9654 - lr: 2.0000e-04\n",
      "Epoch 10/20\n",
      "101/101 [==============================] - 74s 734ms/step - loss: 0.2454 - accuracy: 0.9287 - precision: 0.9595 - recall: 0.8952 - auc: 0.9686 - val_loss: 0.2737 - val_accuracy: 0.9185 - val_precision: 0.9462 - val_recall: 0.8875 - val_auc: 0.9624 - lr: 2.0000e-04\n",
      "Epoch 11/20\n",
      "101/101 [==============================] - ETA: 0s - loss: 0.2389 - accuracy: 0.9278 - precision: 0.9570 - recall: 0.8960 - auc: 0.9697\n",
      "Epoch 11: ReduceLROnPlateau reducing learning rate to 4.0000001899898055e-05.\n",
      "101/101 [==============================] - 74s 735ms/step - loss: 0.2389 - accuracy: 0.9278 - precision: 0.9570 - recall: 0.8960 - auc: 0.9697 - val_loss: 0.2658 - val_accuracy: 0.9200 - val_precision: 0.9330 - val_recall: 0.9049 - val_auc: 0.9656 - lr: 2.0000e-04\n",
      "Epoch 12/20\n",
      "101/101 [==============================] - 75s 739ms/step - loss: 0.2280 - accuracy: 0.9310 - precision: 0.9610 - recall: 0.8985 - auc: 0.9734 - val_loss: 0.2626 - val_accuracy: 0.9176 - val_precision: 0.9542 - val_recall: 0.8773 - val_auc: 0.9646 - lr: 4.0000e-05\n",
      "Epoch 13/20\n",
      "101/101 [==============================] - 75s 739ms/step - loss: 0.2280 - accuracy: 0.9304 - precision: 0.9600 - recall: 0.8982 - auc: 0.9729 - val_loss: 0.2608 - val_accuracy: 0.9180 - val_precision: 0.9475 - val_recall: 0.8849 - val_auc: 0.9631 - lr: 4.0000e-05\n",
      "Epoch 14/20\n",
      "101/101 [==============================] - 75s 744ms/step - loss: 0.2234 - accuracy: 0.9327 - precision: 0.9594 - recall: 0.9036 - auc: 0.9738 - val_loss: 0.2538 - val_accuracy: 0.9220 - val_precision: 0.9504 - val_recall: 0.8904 - val_auc: 0.9640 - lr: 4.0000e-05\n",
      "Epoch 15/20\n",
      "101/101 [==============================] - 75s 745ms/step - loss: 0.2191 - accuracy: 0.9328 - precision: 0.9597 - recall: 0.9036 - auc: 0.9756 - val_loss: 0.2524 - val_accuracy: 0.9203 - val_precision: 0.9410 - val_recall: 0.8969 - val_auc: 0.9675 - lr: 4.0000e-05\n",
      "Epoch 16/20\n",
      "101/101 [==============================] - 76s 749ms/step - loss: 0.2211 - accuracy: 0.9321 - precision: 0.9611 - recall: 0.9006 - auc: 0.9745 - val_loss: 0.2579 - val_accuracy: 0.9181 - val_precision: 0.9479 - val_recall: 0.8849 - val_auc: 0.9643 - lr: 4.0000e-05\n",
      "Epoch 17/20\n",
      "101/101 [==============================] - 75s 746ms/step - loss: 0.2179 - accuracy: 0.9328 - precision: 0.9598 - recall: 0.9034 - auc: 0.9753 - val_loss: 0.2443 - val_accuracy: 0.9221 - val_precision: 0.9511 - val_recall: 0.8900 - val_auc: 0.9703 - lr: 4.0000e-05\n",
      "Epoch 18/20\n",
      "101/101 [==============================] - 77s 766ms/step - loss: 0.2191 - accuracy: 0.9316 - precision: 0.9600 - recall: 0.9008 - auc: 0.9746 - val_loss: 0.2404 - val_accuracy: 0.9261 - val_precision: 0.9519 - val_recall: 0.8976 - val_auc: 0.9694 - lr: 4.0000e-05\n",
      "Epoch 19/20\n",
      "101/101 [==============================] - 77s 760ms/step - loss: 0.2148 - accuracy: 0.9332 - precision: 0.9602 - recall: 0.9038 - auc: 0.9757 - val_loss: 0.2480 - val_accuracy: 0.9225 - val_precision: 0.9436 - val_recall: 0.8987 - val_auc: 0.9664 - lr: 4.0000e-05\n",
      "Epoch 20/20\n",
      "101/101 [==============================] - 78s 775ms/step - loss: 0.2146 - accuracy: 0.9326 - precision: 0.9587 - recall: 0.9040 - auc: 0.9758 - val_loss: 0.2370 - val_accuracy: 0.9227 - val_precision: 0.9426 - val_recall: 0.9002 - val_auc: 0.9710 - lr: 4.0000e-05\n"
     ]
    }
   ],
   "source": [
    "# Compiling the model with Adam optimizer and metrics including accuracy and precision\n",
    "model.compile(optimizer='adam', loss='binary_crossentropy', metrics=['accuracy', Precision(name='precision'), Recall(name='recall'), AUC(name='auc')])\n",
    "\n",
    "# Define a callback to reduce the learning rate when validation loss plateaus\n",
    "reduce_lr = ReduceLROnPlateau(monitor='val_loss', factor=0.2, patience=2, verbose=1)\n",
    "\n",
    "# Train the model using the training set and validate using the validation set\n",
    "history = model.fit(training_set, epochs=20, validation_data=validation_set, callbacks=[reduce_lr])"
   ]
  },
  {
   "cell_type": "markdown",
   "id": "ea1b1608",
   "metadata": {},
   "source": [
    "## Accuracy and Loss Graphs"
   ]
  },
  {
   "cell_type": "code",
   "execution_count": 6,
   "id": "4da596b8",
   "metadata": {},
   "outputs": [
    {
     "data": {
      "image/png": "[encoded data removed]",
      "text/plain": [
       "<Figure size 432x288 with 1 Axes>"
      ]
     },
     "metadata": {
      "needs_background": "light"
     },
     "output_type": "display_data"
    },
    {
     "data": {
      "image/png": "[encoded data removed]",
      "text/plain": [
       "<Figure size 432x288 with 1 Axes>"
      ]
     },
     "metadata": {
      "needs_background": "light"
     },
     "output_type": "display_data"
    }
   ],
   "source": [
    "# Plot training & validation accuracy values\n",
    "plt.plot(history.history['accuracy'])\n",
    "plt.plot(history.history['val_accuracy'])\n",
    "#Adding title and labels to x and y axis\n",
    "plt.title('Model Accuracy')\n",
    "plt.xlabel('Epoch')\n",
    "plt.ylabel('Accuracy')\n",
    "plt.legend(['Train', 'Validation'], loc='lower right')\n",
    "plt.show()\n",
    "\n",
    "# Plot training & validation loss values\n",
    "plt.plot(history.history['loss'])\n",
    "plt.plot(history.history['val_loss'])\n",
    "#Adding title and labels to x and y axis\n",
    "plt.title('Model Loss')\n",
    "plt.xlabel('Epoch')\n",
    "plt.ylabel('Loss')\n",
    "plt.legend(['Train', 'Validation'], loc='lower right')\n",
    "plt.show()"
   ]
  },
  {
   "cell_type": "markdown",
   "id": "dc95382b",
   "metadata": {},
   "source": [
    "## Evaluating the test set"
   ]
  },
  {
   "cell_type": "code",
   "execution_count": 7,
   "id": "2c2eb86f",
   "metadata": {
    "scrolled": true
   },
   "outputs": [
    {
     "name": "stdout",
     "output_type": "stream",
     "text": [
      "106/106 [==============================] - 184s 2s/step - loss: 0.1563 - accuracy: 0.9563 - precision: 0.9660 - recall: 0.9463 - auc: 0.9889\n"
     ]
    }
   ],
   "source": [
    "loss,accuracy,precision,recall,auc = model.evaluate(test_set)"
   ]
  },
  {
   "cell_type": "code",
   "execution_count": 8,
   "id": "c87c1db0",
   "metadata": {},
   "outputs": [
    {
     "name": "stdout",
     "output_type": "stream",
     "text": [
      "Test accuracy: 0.9563\n",
      "Test precision: 0.9660\n",
      "Test recall: 0.9463\n",
      "Test AUC: 0.9889\n"
     ]
    }
   ],
   "source": [
    "print(f\"Test accuracy: {accuracy:.4f}\")\n",
    "print(f\"Test precision: {precision:.4f}\")\n",
    "print(f\"Test recall: {recall:.4f}\")\n",
    "print(f\"Test AUC: {auc:.4f}\")"
   ]
  },
  {
   "cell_type": "markdown",
   "id": "aaac6417",
   "metadata": {},
   "source": [
    "## Saving model for web application development"
   ]
  },
  {
   "cell_type": "code",
   "execution_count": 9,
   "id": "f603a013",
   "metadata": {},
   "outputs": [
    {
     "name": "stderr",
     "output_type": "stream",
     "text": [
      "C:\\Users\\Chait\\anaconda3\\lib\\site-packages\\keras\\src\\engine\\training.py:3000: UserWarning: You are saving your model as an HDF5 file via `model.save()`. This file format is considered legacy. We recommend using instead the native Keras format, e.g. `model.save('my_model.keras')`.\n",
      "  saving_api.save_model(\n"
     ]
    }
   ],
   "source": [
    "model.save('model.h5')"
   ]
  }
 ],
 "metadata": {
  "kernelspec": {
   "display_name": "Python 3 (ipykernel)",
   "language": "python",
   "name": "python3"
  },
  "language_info": {
   "codemirror_mode": {
    "name": "ipython",
    "version": 3
   },
   "file_extension": ".py",
   "mimetype": "text/x-python",
   "name": "python",
   "nbconvert_exporter": "python",
   "pygments_lexer": "ipython3",
   "version": "3.9.12"
  }
 },
 "nbformat": 4,
 "nbformat_minor": 5
}
